{
 "cells": [
  {
   "cell_type": "markdown",
   "metadata": {},
   "source": [
    "\n",
    "## Ecuaciones diferenciales en python.\n",
    "\n",
    "Introduccion\n",
    "Vivimos en un mundo en constante cambio. La posicion de la Tierra cambia con el tiempo; la velociad de un objeto en caida libre cambia con la distancia; el area de un circulo cambia segun el tamaño del radio; la trayectoria de un proyectil cambia segun la velocidad y el angulo de disparo.\n",
    "Al intentar modelar matemáticamente cualquiera de estos fenomenos, veremos que generalmente adoptan la forma de una o más Ecuaciones Diferenciales.\n",
    "\n",
    "¿Qué es una Ecuación difernecial?\n",
    "una ecuacion diferencial es una ecuacion que involucra una variable dependiente y sus derivadas con respecto a una o mas variables independientes.\n",
    "sea $y=f(x)$ es una funcion, entonces su derivada $dy/dx$ puede ser interpretada como la razon de cambio de $y$ con respecto a $x$. En muchos procesos naturales, las variables ....\n",
    "Veamos un ejemplo, tomando la segunda ley de Newton\n",
    "$F=ma$\n",
    "A primera vista esta no parece ser una ecuacion diferencial\n",
    "pero tenemos que\n",
    "$f=m d^{2}r/dt^2$\n",
    "De esta manera, estamos expresando a la segunda ley de la dinamica de Newton en funcion de la posicion del objeto y desta forma vemos que tenemos una ecuacion diferencial\n",
    "\n",
    "##ecuaciones diferenciales ordinarias y parciales\n",
    "Lo anterior fue una Ecuacion diferencial ordinaria ya que todas las derivadas involucradas son tomadas con respecto a una unica y misma variable independiente, por otro lado , si en la ecucion tenemos derivadas de una variable independiente, debemos hablar de ecuaciones diferenciales parciales\n",
    "#orden de las ecuaciones dieferenciales\n",
    "el orden de una ecuacion diferencial va a ser igual al orden de la mayor derivada presente\n",
    "asi la ecuacion diferencial ordinaria de Newton es de segundo orden.\n",
    "$F(x,y,y´, y´´,...,y^{n}$\n",
    "La mas simples de las ecuaciones diferenciales ordinarias es $dy/dx=f(x)$ y para resolverla tenemos que integrarla de manera indefinida\n",
    "\n",
    "##ecuaciones diferenciables separables\n",
    "Una ecuacion separable es una ecuacion diferencial de primer orden en la que la expresion para $dy/dx$ se puede factorizar  como una funcion de x multiplicada por una funcion de y, es decir, \n",
    "$dy/dx=f(x)g(y)$\n",
    "para poder resolver este tipo de ecuaciones podemos reescribir de la siguiente manera:\n",
    "$dy/g(y)=f(x)dx$ y luego podemos resolver la ecuacion integrando.\n",
    "\n",
    "##ecuaciones diferenciales lineales\n",
    "$dy/dx+P(x)y=Q(x)$\n",
    "donde P, Q son funciones continuas de x en un determinado intervalo\n",
    "\n",
    "##series de Taylor \n",
    "Es usada para poder resolver ecuaciones diferenciales parciales que son dificiles\n",
    "\n",
    "## Resolviendo ecuaciones diferenciales con python\n",
    "podemos usar librerias que nos ayudan a resolver problemas de ecuaciones difereciales ordinarias\n",
    "\n",
    "Soluciones analiticas con python\n",
    "Sympy nos proporciona un solucionador generico de ecuaciones diferenciales oridinarias, sympy.dsolve , el cual es capaz de encontras las soluciones analiticas de muchas ecuaciones ordinarias elementales\n"
   ]
  },
  {
   "cell_type": "code",
   "execution_count": 6,
   "metadata": {},
   "outputs": [
    {
     "data": {
      "text/latex": [
       "$$\\frac{d}{d x} y{\\left (x \\right )} = - 3 x^{2} y{\\left (x \\right )} + 6 x^{2}$$"
      ],
      "text/plain": [
       "d               2           2\n",
       "──(y(x)) = - 3⋅x ⋅y(x) + 6⋅x \n",
       "dx                           "
      ]
     },
     "execution_count": 6,
     "metadata": {},
     "output_type": "execute_result"
    }
   ],
   "source": [
    "#%matplotlib inline\n",
    "#import matplotlib.pyplot as plt\n",
    "#import numpy as np\n",
    "import sympy\n",
    "from scipy import integrate\n",
    "\n",
    "#imprimir con notacion matematica\n",
    "sympy.init_printing(use_latex=\"mathjax\")\n",
    "\n",
    "#resolviendo ecuacion diferencial\n",
    "#defino las incognitas\n",
    "\n",
    "x= sympy.Symbol(\"x\")\n",
    "y= sympy.Function(\"y\")\n",
    "\n",
    "#expreso la ecuacion\n",
    "f = 6*x**2 - 3*x**2*(y(x))\n",
    "sympy.Eq(y(x).diff(x), f)\n"
   ]
  },
  {
   "cell_type": "code",
   "execution_count": 8,
   "metadata": {},
   "outputs": [
    {
     "data": {
      "text/latex": [
       "$$y{\\left (x \\right )} = C_{1} e^{- x^{3}} + 2$$"
      ],
      "text/plain": [
       "             3    \n",
       "           -x     \n",
       "y(x) = C₁⋅ℯ    + 2"
      ]
     },
     "execution_count": 8,
     "metadata": {},
     "output_type": "execute_result"
    }
   ],
   "source": [
    "#resolviendo la ecuacion\n",
    "sympy.dsolve(y(x).diff(x)-f)"
   ]
  },
  {
   "cell_type": "markdown",
   "metadata": {},
   "source": [
    "ahora resolvamos el siguiente problema de valores iniciales\n",
    "$dy/dx-(1/2)*y^2=-1/2$"
   ]
  },
  {
   "cell_type": "code",
   "execution_count": 13,
   "metadata": {},
   "outputs": [
    {
     "data": {
      "text/latex": [
       "$$\\frac{d}{d x} y{\\left (x \\right )} = \\frac{1}{2} y^{2}{\\left (x \\right )} - \\frac{1}{2}$$"
      ],
      "text/plain": [
       "            2       \n",
       "d          y (x)   1\n",
       "──(y(x)) = ───── - ─\n",
       "dx           2     2"
      ]
     },
     "execution_count": 13,
     "metadata": {},
     "output_type": "execute_result"
    }
   ],
   "source": [
    "import sympy\n",
    "sympy.init_printing(use_latex=\"mathjax\")\n",
    "\n",
    "x = sympy.Symbol(\"x\")\n",
    "y = sympy.Function(\"y\")\n",
    "\n",
    "#expreso la ecuacion\n",
    "f = (y(x)**2-1)/2\n",
    "sympy.Eq(y(x).diff(x), f)"
   ]
  },
  {
   "cell_type": "code",
   "execution_count": 14,
   "metadata": {},
   "outputs": [
    {
     "data": {
      "text/latex": [
       "$$y{\\left (x \\right )} = \\frac{1}{\\tanh{\\left (C_{1} - \\frac{x}{2} \\right )}}$$"
      ],
      "text/plain": [
       "            1      \n",
       "y(x) = ────────────\n",
       "           ⎛     x⎞\n",
       "       tanh⎜C₁ - ─⎟\n",
       "           ⎝     2⎠"
      ]
     },
     "execution_count": 14,
     "metadata": {},
     "output_type": "execute_result"
    }
   ],
   "source": [
    "#resolviendo la ecuacion\n",
    "sympy.dsolve(y(x).diff(x)-f)"
   ]
  },
  {
   "cell_type": "code",
   "execution_count": null,
   "metadata": {
    "collapsed": true
   },
   "outputs": [],
   "source": []
  }
 ],
 "metadata": {
  "kernelspec": {
   "display_name": "Python 3",
   "language": "python",
   "name": "python3"
  },
  "language_info": {
   "codemirror_mode": {
    "name": "ipython",
    "version": 3
   },
   "file_extension": ".py",
   "mimetype": "text/x-python",
   "name": "python",
   "nbconvert_exporter": "python",
   "pygments_lexer": "ipython3",
   "version": "3.6.3"
  }
 },
 "nbformat": 4,
 "nbformat_minor": 2
}
