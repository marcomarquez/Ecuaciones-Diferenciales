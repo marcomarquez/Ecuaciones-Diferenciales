{
 "cells": [
  {
   "cell_type": "markdown",
   "metadata": {},
   "source": [
    "REsolver la ecuacion diferencial ordinaria\n",
    "$dx/dy=y+x-x^2+1$\n",
    "con la condicion inicial $y(0)=1$"
   ]
  },
  {
   "cell_type": "code",
   "execution_count": null,
   "metadata": {
    "collapsed": true
   },
   "outputs": [],
   "source": [
    "import sympy\n",
    "from sympy import*\n",
    "sympy.int_printing()\n",
    "\n",
    "x=Symbol(\"x\")\n",
    "y=sympy.Function(\"y\")\n",
    "\n"
   ]
  },
  {
   "cell_type": "markdown",
   "metadata": {},
   "source": [
    "$dx/dt-tx=3t$"
   ]
  },
  {
   "cell_type": "code",
   "execution_count": 4,
   "metadata": {},
   "outputs": [
    {
     "data": {
      "text/latex": [
       "$$x{\\left (t \\right )} = C_{1} e^{\\frac{t^{2}}{2}} - 3$$"
      ],
      "text/plain": [
       "            2    \n",
       "           t     \n",
       "           ──    \n",
       "           2     \n",
       "x(t) = C₁⋅ℯ   - 3"
      ]
     },
     "execution_count": 4,
     "metadata": {},
     "output_type": "execute_result"
    }
   ],
   "source": [
    "\n",
    "import sympy\n",
    "\n",
    "#imprimir con notacion matematica\n",
    "sympy.init_printing(use_latex=\"mathjax\")\n",
    "\n",
    "#resolviendo ecuacion diferencial\n",
    "#defino las incognitas\n",
    "t= sympy.Symbol(\"t\")\n",
    "x= sympy.Function(\"x\")\n",
    "\n",
    "#expreso la ecuacion\n",
    "f = 3*t+t*x(t)\n",
    "#sympy.Eq(x(t).diff(t), f)\n",
    "Sol=sympy.dsolve(x(t).diff(t)-f)\n",
    "Sol\n"
   ]
  },
  {
   "cell_type": "code",
   "execution_count": 5,
   "metadata": {},
   "outputs": [
    {
     "data": {
      "image/png": "[encoded data removed]",
      "text/latex": [
       "$$- \\frac{25 \\cos{\\left (25 \\right )}}{8 \\Gamma{\\left(\\frac{9}{4} \\right)}} \\Gamma{\\left(\\frac{5}{4} \\right)} + \\frac{5 \\sqrt{2} \\sqrt{\\pi} C\\left(\\frac{5 \\sqrt{2}}{\\sqrt{\\pi}}\\right)}{16 \\Gamma{\\left(\\frac{9}{4} \\right)}} \\Gamma{\\left(\\frac{5}{4} \\right)}$$"
      ],
      "text/plain": [
       "                                      ⎛5⋅√2⎞       \n",
       "                      5⋅√2⋅√π⋅fresnelc⎜────⎟⋅Γ(5/4)\n",
       "  25⋅cos(25)⋅Γ(5/4)                   ⎝ √π ⎠       \n",
       "- ───────────────── + ─────────────────────────────\n",
       "       8⋅Γ(9/4)                 16⋅Γ(9/4)          "
      ]
     },
     "execution_count": 5,
     "metadata": {},
     "output_type": "execute_result"
    }
   ],
   "source": [
    "#una forma de resolver integrales\n",
    "import sympy as sp\n",
    "from sympy import*\n",
    "sp.init_printing()\n",
    "\n",
    "x=Symbol(\"x\")\n",
    "f=x**2 * sp.sin(x**2)\n",
    "g=sp.integrate(f,(x,0,5))\n",
    "#se usa para inprimir \n",
    "g\n",
    "\n",
    "#imprime\n",
    "#print(\"\\nLa integral da\", g)\n",
    "\n",
    "#imprime \n",
    "#sp.pprint(g)"
   ]
  },
  {
   "cell_type": "markdown",
   "metadata": {},
   "source": [
    "## Metodo de la serie de Taylor\n",
    "Dada la ecuacion diferencial de primer orfen con ...\n",
    "\n",
    "obtenga dos puntos de la solucion de la siguiente ecuacio diferencial utilizando los tres primeros terminos dela serie de Taylor con h=0.1 \n",
    "$dx/dy-y-x+x^2-1=0$\n",
    "con la condicion inicial $y(0)=1$\n"
   ]
  },
  {
   "cell_type": "code",
   "execution_count": 20,
   "metadata": {},
   "outputs": [
    {
     "data": {
      "image/png": "[encoded data removed]",
      "text/plain": [
       "<matplotlib.figure.Figure at 0x22a86d17ba8>"
      ]
     },
     "metadata": {},
     "output_type": "display_data"
    }
   ],
   "source": [
    "import matplotlib.pyplot as plt\n",
    "import numpy as np\n",
    "import math\n",
    "def f(t):\n",
    "    return np.exp(t)+t**2+t\n",
    "\n",
    "x=np.arange(0.0, 1.0, 0.01)\n",
    "\n",
    "plt.plot(x, f(x), \"k\")\n",
    "plt.plot([0.1,0.2],[1.2152, 1.4614], \"ro\")\n",
    "plt.show()"
   ]
  },
  {
   "cell_type": "code",
   "execution_count": 21,
   "metadata": {},
   "outputs": [
    {
     "data": {
      "image/png": "[encoded data removed]",
      "text/plain": [
       "<matplotlib.figure.Figure at 0x22a86d176d8>"
      ]
     },
     "metadata": {},
     "output_type": "display_data"
    }
   ],
   "source": [
    "import matplotlib.pyplot as plt\n",
    "import numpy as np\n",
    "\n",
    "def f(x):\n",
    "    return np.exp(x)+x**2+x\n",
    "\n",
    "x=np.linspace(0, 1, num=30)\n",
    "plt.plot(x, f(x), label=\"Sol. exacta\")\n",
    "plt.plot([0.1,0.2],[1.2152, 1.4614], \"ro\", label=\"aproximacionescon Taylor\")\n",
    "plt.legend()\n",
    "plt.show()"
   ]
  },
  {
   "cell_type": "code",
   "execution_count": 23,
   "metadata": {},
   "outputs": [
    {
     "name": "stdout",
     "output_type": "stream",
     "text": [
      "[[ 0.1     1.215 ]\n",
      " [ 0.2     1.461 ]\n",
      " [ 0.3     1.7392]\n",
      " [ 0.4     2.0509]\n",
      " [ 0.5     2.3974]]\n"
     ]
    },
    {
     "data": {
      "image/png": "[encoded data removed]",
      "text/plain": [
       "<matplotlib.figure.Figure at 0x22a8768dda0>"
      ]
     },
     "metadata": {},
     "output_type": "display_data"
    }
   ],
   "source": [
    "#metodo de Tylor con Phyton\n",
    "import numpy as np\n",
    "import pylab as pl\n",
    "np.set_printoptions(precision=4)\n",
    "def taylor3(f,df,x,y,h,m):\n",
    "    u=np.zeros([m,2])\n",
    "    for i in range (m):\n",
    "        y=y+h*f(x,y)+h**2/2*df(x,y)\n",
    "        x=x+h\n",
    "        u[i,0]=x\n",
    "        u[i,1]=y\n",
    "    return u\n",
    "def f(x,y):\n",
    "    return y-x**2+x+1\n",
    "def df(x,y):\n",
    "    return y-x**2-x+2\n",
    "\n",
    "u=taylor3(f,df,0,1,0.1,5)\n",
    "print (u)\n",
    "\n",
    "x=u[:,0] #la primera columna de u\n",
    "y=u[:,1] #la segunda columna de u \n",
    "#la marca : significa \"todas las filas\"\n",
    "\n",
    "pl.plot(x,y, \"ro\")\n",
    "pl.grid(True)\n",
    "pl.show()"
   ]
  },
  {
   "cell_type": "code",
   "execution_count": 24,
   "metadata": {},
   "outputs": [
    {
     "name": "stdout",
     "output_type": "stream",
     "text": [
      "\n",
      "x= [ 0.   0.1  0.2  0.3  0.4  0.5]\n",
      "\n",
      "y= [[ 1.    ]\n",
      " [ 1.2152]\n",
      " [ 1.4614]\n",
      " [ 1.7399]\n",
      " [ 2.0518]\n",
      " [ 2.3987]]\n"
     ]
    }
   ],
   "source": [
    "#solucion  numerica con el metodo odeint de la libreria de Scipy de python\n",
    "from numpy import*\n",
    "from scipy.integrate import odeint\n",
    "\n",
    "def f(y,x):\n",
    "    return y-x**2+x+1\n",
    "\n",
    "x=arange(0,0.6,0.1)\n",
    "y=odeint(f,1,x) #al integral se incluye Y(x0)\n",
    "\n",
    "print (\"\\nx=\",x )\n",
    "print (\"\\ny=\",y )"
   ]
  },
  {
   "cell_type": "code",
   "execution_count": null,
   "metadata": {
    "collapsed": true
   },
   "outputs": [],
   "source": []
  }
 ],
 "metadata": {
  "kernelspec": {
   "display_name": "Python 3",
   "language": "python",
   "name": "python3"
  },
  "language_info": {
   "codemirror_mode": {
    "name": "ipython",
    "version": 3
   },
   "file_extension": ".py",
   "mimetype": "text/x-python",
   "name": "python",
   "nbconvert_exporter": "python",
   "pygments_lexer": "ipython3",
   "version": "3.6.3"
  }
 },
 "nbformat": 4,
 "nbformat_minor": 2
}
