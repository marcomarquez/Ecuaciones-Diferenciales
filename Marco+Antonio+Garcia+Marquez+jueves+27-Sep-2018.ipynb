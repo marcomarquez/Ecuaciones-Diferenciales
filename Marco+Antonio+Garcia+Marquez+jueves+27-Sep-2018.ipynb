{
 "cells": [
  {
   "cell_type": "markdown",
   "metadata": {},
   "source": [
    "## metodo de Euler.\n",
    "\n",
    "$y_{i+1}=y_i+hf(x_i,y_i)$\n",
    "\n",
    "\n",
    "$x_{i+1}=y_i+h$, $=0,1,2,...$\n",
    "\n",
    "\n",
    "$E=(h^2/2!)y´´(z)= O(h^2)$\n",
    "\n",
    "\n",
    "## Euler Mejorado (Henn)\n",
    "\n",
    "$\\bar{y}_i+1=y_i+hf(x_i,y_i)$\n",
    "\n",
    "$y_{i+1}=y_i+(h/2)f(x_i,y_i)+f(x_{i+1}i,\\bar{y}_i+1)$\n",
    "\n",
    "$x_{i+1}=y_i+h$, $=0,1,2,...$\n",
    " \n",
    "$E=(h^3/3!)y´´´(z)= O(h^3)$\n",
    "\n",
    "## Runge-Kutta Segundo Orden\n",
    "\n",
    "$k_1=hf(x_i,y_i)$\n",
    "\n",
    "$k_2=hf(x_i+h,y_i+k_i)$\n",
    "\n",
    "$y_{i+1}=y_i+(1/2)(k_1+k_2)$\n",
    "\n",
    "$x_{i+1}=y_i+h$, $=0,1,2,...$\n",
    "\n",
    "$E=(h^3/3!)y´´´(z)= O(h^3)$\n",
    "\n",
    "## cuarto orden\n",
    "\n",
    "$k_1=hf(x_i,y_i)$\n",
    "\n",
    "$k_2=hf(x_i+h/2,y_i+k_i/2)$\n",
    "\n"
   ]
  },
  {
   "cell_type": "code",
   "execution_count": 17,
   "metadata": {
    "collapsed": true
   },
   "outputs": [],
   "source": [
    "import numpy as np\n",
    "def euler (f,x,y,h,m):\n",
    "    u=np.zeros([m,2])\n",
    "    for i in range (m):\n",
    "        y=y+h*f(x,y)\n",
    "        x=x+h\n",
    "        u[i,0]=x\n",
    "        u[i,1]=y\n",
    "    return u\n",
    "  \n"
   ]
  },
  {
   "cell_type": "code",
   "execution_count": 18,
   "metadata": {},
   "outputs": [
    {
     "data": {
      "image/png": "[encoded data removed]",
      "text/plain": [
       "<matplotlib.figure.Figure at 0x22926988198>"
      ]
     },
     "metadata": {},
     "output_type": "display_data"
    }
   ],
   "source": [
    "import pylab as pl\n",
    "import numpy as np\n",
    "def f(x,y):\n",
    "    return y-x**2+x+1\n",
    "u=euler(f,0,1,0.1,20)\n",
    "pl.plot(u[:,0],u[:,1],\"or\")\n",
    "\n",
    "def y(x):\n",
    "    return np.exp(x)+x**2+x #solucion analitica\n",
    "x=pl.arange(0,2.1,0.1)\n",
    "\n",
    "pl.plot(x,y(x),\"ob\")\n",
    "pl.grid(True)\n",
    "pl.show()"
   ]
  },
  {
   "cell_type": "code",
   "execution_count": null,
   "metadata": {
    "collapsed": true
   },
   "outputs": [],
   "source": []
  }
 ],
 "metadata": {
  "kernelspec": {
   "display_name": "Python 3",
   "language": "python",
   "name": "python3"
  },
  "language_info": {
   "codemirror_mode": {
    "name": "ipython",
    "version": 3
   },
   "file_extension": ".py",
   "mimetype": "text/x-python",
   "name": "python",
   "nbconvert_exporter": "python",
   "pygments_lexer": "ipython3",
   "version": "3.6.3"
  }
 },
 "nbformat": 4,
 "nbformat_minor": 2
}
