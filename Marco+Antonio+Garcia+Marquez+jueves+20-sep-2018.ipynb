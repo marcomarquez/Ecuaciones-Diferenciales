{
 "cells": [
  {
   "cell_type": "markdown",
   "metadata": {},
   "source": [
    "#clase integradores simples\n",
    "Ecuaciones Diferenciales Ordinarias: Problemas de valores iniciales\n",
    "#introduccion\n",
    "veremos metodos numericos diseñados para resolver problemas de valores iniciales:Los metodos son: el metodo de Euler y metodo de Runge-Kutta. tambien la regla del punto medio esto para la parte de integradores simples\n",
    "\n",
    "consideramos un problema de valores iniciales como el que sigue:\n",
    "$$\n",
    "\\begin{equation}\n",
    "\\begin{cases}\n",
    "\\dot{y}(t) & = & f(y,t), \\\\\n",
    "y(0) & = & y_{0},\n",
    "\\end{cases}\n",
    "\\end{equation}\n",
    "$$\n",
    "\n",
    "donde $y(t)\\equiv y$ y es un vector n-dimensional y $y_0$ es el valor inicial\n",
    "\n",
    "#integradores simples\n",
    "discretizamos la coordenada de tiempo $t$ como sigue $t_n=$t_0$ + n\\Delta t$ y definimos $f_n\\equiv(t_n)$.\n",
    "\n",
    "integrando a ambos lados de la ecuacion sobre $[t_n,t_{n+1}]\n",
    "1.-regla rectangular (directa o hacia adelante) nos lleva a una solucion aproximada, el cual esun metodo explicito de Euler \n",
    "2.- aplicandola regla rectangular (indirecta), la solucion obtenida se llama metodo de euler implicito\n",
    "3.-la regla rectangular central nos lleva a una solucion del tipo\n",
    "4.-Empleando el metodo del trapecio nos lleva a\n",
    "y estos se resolveran por el metodo de series de Taylor y el de Runge Kutta.\n"
   ]
  },
  {
   "cell_type": "code",
   "execution_count": null,
   "metadata": {
    "collapsed": true
   },
   "outputs": [],
   "source": []
  }
 ],
 "metadata": {
  "kernelspec": {
   "display_name": "Python 3",
   "language": "python",
   "name": "python3"
  },
  "language_info": {
   "codemirror_mode": {
    "name": "ipython",
    "version": 3
   },
   "file_extension": ".py",
   "mimetype": "text/x-python",
   "name": "python",
   "nbconvert_exporter": "python",
   "pygments_lexer": "ipython3",
   "version": "3.6.3"
  }
 },
 "nbformat": 4,
 "nbformat_minor": 2
}
