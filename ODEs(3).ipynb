{
 "cells": [
  {
   "cell_type": "markdown",
   "metadata": {},
   "source": [
    "# Ecuaciones Diferenciales con Python\n",
    "\n",
    "## Introducción\n",
    "\n",
    "Vivimos en un mundo en constante cambio. La posición de la Tierra cambia con el tiempo; la velocidad de un objeto en caída libre cambia con la distancia; el área de un círculo cambia según el tamaño de su radio; la trayectoria de un proyectil cambia según la velocidad y el ángulo de disparo. Al intentar modelar matemáticamente cualquiera de estos fenómenos, veremos que generalmente adoptan la forma de una o más Ecuaciones diferenciales.\n",
    "\n",
    "## ¿Qué es una ecuación diferencial?\n",
    "Una Ecuación diferencial es una ecuación que involucra una variable dependiente y sus derivadas con respecto a una o más variables independientes. Muchas de las leyes de la naturaleza, en Física, Química, Biología, y Astronomía; encuentran la forma más natural de ser expresadas en el lenguaje de las Ecuaciones diferenciales. Estas ecuaciones no sólo tienen aplicaciones en la ciencias físicas, sino que también abundan sus aplicaciones en las ciencias aplicadas como ser Ingeniería, Finanzas y Economía.\n",
    "\n",
    "Es fácil entender la razón detrás de esta amplia utilidad de las Ecuaciones diferenciales. Si recordamos que $y=f(x)$ es una función, entonces su derivada $dy/dx$ puede ser interpretada como la razón de cambio de $y$ con respecto a $x$. En muchos procesos naturales, las variables involucradas y su ritmo de cambio están conectados entre sí por medio de los principios científicos básicos que rigen el proceso. Cuando esta conexión es expresada matemáticamente, el resultado generalmente es una `Ecuación diferencial`.\n",
    "\n",
    "Para ilustrar el caso, veamos un ejemplo. Según la segunda ley de la dinámica de Newton, la aceleración a de un cuerpo de masa m es proporcional a la fuerza total F que actúa sobre él. Si expresamos esto matemáticamente en la forma de una ecuación, entonces tememos que:\n",
    "$$F=ma$$\n",
    "\n",
    "A primera vista, esta ecuación no parece ser una Ecuación diferencial, pero supongamos que un objeto de masa $m$ esta en caída libre bajo la influencia de la fuerza de gravedad. En este caso, la única fuerza actuando sobre el objeto es $mg$, donde $g$ es la aceleración debido a la gravedad. Si consideramos a $u$, como la posición del objeto desde una altura determinada; entonces la velocidad de caída del objeto va a ser igual a la razón de cambio de la posición $u$ con respecto al tiempo $t$; es decir que la velocidad es igual a $v=du/dt$, o sea, la derivada de la posición del objeto con respecto al tiempo; y como la aceleración no es otra cosa que la razón de cambio de la velocidad, entonces podemos definir a la aceleración como una segunda derivada de la posición del objeto con respecto al tiempo, lo que es igual a decir que $g=d^2u/dt^2$. De esta forma, podemos reescribir la ecuación inicial de la segunda ley de la dinámica de Newton como la siguiente Ecuación diferencial. $$F = m \\frac{d^2u}{dt^2}$$\n",
    "\n",
    "De esta manera, estamos expresando a la segunda ley de la dinámica de Newton en función de la posición del objeto.\n",
    "\n",
    "## Ecuaciones diferenciales ordinarias y parciales\n",
    "El caso precedente, es el caso típico de una Ecuación diferencial ordinaria, ya que todas las derivadas involucradas son tomadas con respecto a una única y misma variable independiente. Por otro lado, si en la ecuación tenemos derivadas de más de una variable independiente, debemos hablar de Ecuaciones difenciales parciales. Por ejemplo, si $w=f(x,y,z,t)$ es una función de tiempo y 3 coordenadas de un punto en el espacio, entonces las siguientes son sus Ecuaciones diferenciales parciales:\n",
    "$$\\begin{eqnarray}\n",
    " \\frac{\\partial^2w}{\\partial x^2}+ & \\frac{\\partial^2w}{\\partial y^2}+ & \\frac{\\partial^2w}{\\partial z^2}=0 \\\\\n",
    " a^2(\\frac{\\partial^2w}{\\partial x^2}+ & \\frac{\\partial^2w}{\\partial y^2}+ & \\frac{\\partial^2w}{\\partial z^2})=\\frac{\\partial w}{\\partial t}; \\\\\n",
    "a^2(\\frac{\\partial^2w}{\\partial x^2}+ & \\frac{\\partial^2w}{\\partial y^2}+ & \\frac{\\partial^2w}{\\partial z^2})=\\frac{\\partial ^2w}{\\partial t^2}\n",
    "\\end{eqnarray}\n",
    "$$\n",
    "\n",
    "En esta caso, el símbolo $\\partial$, es la notación matemática para expresar que estamos derivando parcialmente, así por ejemplo, si queremos expresar que vamos a derivar $z$ con respecto a $x$, escribimos $∂z/∂x$.\n",
    "\n",
    "Estos ejemplos, tienen una gran aplicación en Física y se conocen como la ecuación de Laplace, la ecuación del calor y la ecuación de onda respectivamente. En general, las Ecuaciones diferenciales parciales surgen en problemas de campos eléctricos, mecánica de fluidos, difusión y movimientos de ondas. La teoría de estas ecuaciones es bastante diferente con respecto a las ecuaciones diferenciales ordinarias y suelen ser también más complicadas de resolver. En este artículo me voy a enfocar principalmente en las ecuaciones diferenciales ordinarias, o EDOs para abreviar.\n",
    "\n",
    "## Orden de las Ecuaciones diferenciales\n",
    "El orden de una Ecuación diferencial va a ser igual al orden de la mayor derivada presente. Así, en nuestro primer ejemplo, la Ecuación diferencial de la segunda ley de la dinámica de Newton es de segundo orden, ya que nos encontramos ante la segunda derivada de la posición del objeto con respecto al tiempo. La ecuación general de las ecuaciones diferenciales ordinarias de grado $n$ es la siguiente: $$F(x,y,\\frac{dy}{dx},\\frac{d^2y}{dx^2},...,\\frac{d^ny}{dx^n})=0$$\n",
    "o utilizando la notación prima para las derivadas,\n",
    "$$F(x,y,y',y\",...,y^{(n)})=0$$\n",
    "\n",
    "La más simple de todas las ecuaciones diferenciales ordinarias es la siguiente ecuación de primer orden:$$\\frac{dy}{dx}=f(x)$$\n",
    "y para resolverla simplemente debemos calcular su integral indefinida:$$y=\\int f(x)dx + c$$\n",
    "\n",
    "\n",
    "## Ecuaciones diferenciales separables\n",
    "Una ecuación separable es una ecuación diferencial de primer orden en la que la expresión para $dx/dy$ se puede factorizar como una función de $x$ multiplicada por una función de $y$. En otras palabras, puede ser escrita en la forma:$$\\frac{dy}{dx}=f(x)g(y)$$\n",
    "\n",
    "El nombre separable viene del hecho de que la expresión en el lado derecho se puede \"separar\" en una función de $x$ y una función de $y$.\n",
    "\n",
    "Para resolver este tipo de ecuaciones, podemos reescribirlas en la forma diferencial:$$\\frac{dy}{g(y)}=f(x)dx$$\n",
    "\n",
    "y luego podemos resolver la ecuación original integrando:$$\\int \\frac{dy}{g(y)} = \\int f(x)dx + c$$\n",
    "\n",
    "Éstas suelen ser las Ecuaciones diferenciales más fáciles de resolver, ya que el problema de resolverlas puede ser reducido a un problema de integración; a pesar de que igualmente muchas veces estas integrales pueden ser difíciles de calcular.\n",
    "\n",
    "## Ecuaciones diferenciales lineales\n",
    "Uno de los tipos más importantes de Ecuaciones diferenciales son las Ecuaciones diferenciales lineales. Este tipo de ecuaciones son muy comunes en varias ciencias y tienen la ventaja de que pueden llegar a ser resueltas en forma analítica ya que su ecuación diferencial de primer orden adopta la forma:$$\\frac{dy}{dx}+P(x)y=Q(x)$$\n",
    "\n",
    "donde, $P$ y $Q$ son funciones continuas de $x$ en un determinado intervalo. Para resolver este tipo de ecuaciones de la forma $y′+P(x)y=Q(x)$, debemos multiplicar los dos lados de la ecuación por el factor de integración $e^{\\int P(x)dx}$ y luego integrar ambos lados. Así, si por ejemplo quisiéramos resolver la siguiente Ecuación diferencial:$$\\frac{dy}{dx}+3x^2y=6x^2$$\n",
    "\n",
    "Primero calculamos el factor de integración, $I(x)=e^{\\int 3x^2 dx}$, lo que es igual a $e^{x^3}$.\n",
    "\n",
    "Luego multiplicamos ambos lados de la ecuación por el recién calculado factor de integración. $$e^{x^3}\\frac{dy}{dx}+3x^2 e^{x^3}y=6x^2e^{x^3}$$\n",
    "simplificando, obtenemos: $$\\frac{d}{dx}(e^{x^3 y})=6x^2e^{x^3}$$\n",
    "\n",
    "Por último, integramos ambos lados de la ecuación:$$e^{x^3}y=\\int 6x^2e^{x^3}dx = 2e^{x^3}+C$$ \n",
    "y podemos obtener la solución final: $$ y=Ce^{-x^3 +2}$$\n",
    "\n",
    "## Condición inicial\n",
    "Cuando utilizamos Ecuaciones diferenciales, generalmente no estamos interesados en encontrar una familia de soluciones (la solución general), como la que hayamos en el caso precedente, sino que vamos a estar más interesados en una solución que satisface un requerimiento particular.En muchos problemas físicos debemos de encontrar una solución particular que satisface una condición de la forma $y(t_o)=y_0$. Esto se conoce como la __condición inicial__, y el problema de encontrar una solución de la Ecuación diferencial que satisface la condición inicial se conoce como el __problema de valor inicial__.\n",
    "\n",
    "## Series de potencias\n",
    "Cuando comenzamos a lidiar con las Ecuaciones diferenciales, veremos que existen un gran número de ellas que no pueden ser resueltas en forma analítica utilizando los principios del Cálculo integral y el Cálculo diferencial; pero sin embargo, tal vez podamos encontrar soluciones aproximadas para este tipo de ecuaciones en términos de Series de potencias.\n",
    "\n",
    "### ¿Qué es una serie de potencias?\n",
    "Una Serie de potencias es una serie, generalmente infinita, que posee la siguiente forma:\n",
    "$$\\sum _{n=0}^\\infty C_nX^n = C_0+C_1X+C_2X^2+C_3X^3+...$$\n",
    "\n",
    "En dónde $X$ es una variable y las $C_n$ son constantes o los coeficientes de la serie. Una Serie de potencias puede converger para algunos valores de $X$ y divergir para otros valores de $X$. La suma de la serie es una función.\n",
    "\n",
    "$$f(x)= C_0+C_1X+C_2X^2+C_3X^3+...$$\n",
    "\n",
    "El dominio de esta función va a estar dado por el conjunto de todos los $X$ para los que la serie converge.\n",
    "\n",
    "## Series de Taylor\n",
    "Las Series de Taylor son un caso especial de Serie de potencias cuyos términos adoptan la forma $(x−a)^n$. Las Series de Taylor nos van a permitir aproximar funciones continuas que no pueden resolverse en forma analítica y se van a calcular a partir de las derivadas de estas funciones. Su definición matemática es la siguiente:\n",
    "$$f(x)=\\sum_{n=0}^{\\infty}\\frac{f^{(n)}(a)}{n!}(x-a)^n$$\n",
    "\n",
    "Lo que es equivalente a decir: \n",
    "$$f(x)=f(a)+\\frac{f'(a)}{1!}(x-a)+\\frac{f\"(a)}{2!}(x-a)^2+\\frac{f'''(a)}{3!}(x-a)^3+......$$\n",
    "\n",
    "Una de las razones de que las Series de Taylor sean importantes es que nos permiten integrar funciones que de otra forma no podíamos manejar. De hecho, a menudo Newton integraba funciones por medio de, en primer lugar, expresarlas como Series de potencias y luego integrando la serie término a término. Por ejemplo, la función $f(x)=e^{−x^2}$, no puede ser integrada por los métodos normales del Cálculo integral, por lo que debemos recurrir a las Series de Taylor para aproximar la solución de su integral. Podríamos construir la Serie de Taylor de esta función, del siguiente modo^\n",
    "\n",
    "$$e^{−x^2}=\\sum_{n=0}^{\\infty}\\frac{(-x^2)^n}{n!}= \\sum_{n=0}^{\\infty}(-1)^n\\frac{x^{2n}}{n!}= 1-\\frac{x^2}{1!}+\\frac{x^4}{2!}-\\frac{x^6}{3!}+...$$\n",
    "\n",
    "## Resolviendo Ecuaciones diferenciales con Python\n",
    "Mientras que algunos problemas de Ecuaciones diferenciales ordinarias se pueden resolver con métodos analíticos, como hemos mencionado anteriormente, son mucho más comunes los problemas que no se pueden resolver analíticamente. Por lo tanto, en estos casos debemos recurrir a los métodos numéricos. Es aquí, dónde el poder de las computadoras y en especial, de los paquetes científicos de Python como NumPy, Matplotlib, SymPy y SciPy, se vuelven sumamente útiles. Veamos como podemos utilizar la fuerza computacional para resolver Ecuaciones diferenciales.\n",
    "\n",
    "### Soluciones analíticas con Python\n",
    "SymPy nos proporciona un solucionador genérico de Ecuaciones diferenciales ordinarias, `sympy.dsolve`, el cual es capaz de encontrar soluciones analíticas a muchas EDOs elementales. Mientras `sympy.dsolve` se puede utilizar para resolver muchas EDOs sencillas simbólicamente, como veremos a continuación, debemos tener en cuenta que la mayoría de las EDOs no se pueden resolver analíticamente. Por ejemplo, retomando el ejemplo que resolvimos analíticamente más arriba, veamos si llegamos al mismo resultado utilizando SymPy para solucionar la siguiente Ecuación diferencial ordinaria: $$\\frac{dy}{dx}=-3x^2y+6x^2$$"
   ]
  },
  {
   "cell_type": "code",
   "execution_count": 45,
   "metadata": {},
   "outputs": [],
   "source": [
    "# importando modulos necesarios\n",
    "%matplotlib inline\n",
    "\n",
    "import matplotlib.pyplot as plt\n",
    "import numpy as np\n",
    "import sympy \n",
    "from scipy import integrate\n",
    "\n",
    "# imprimir con notación matemática.\n",
    "sympy.init_printing(use_latex='mathjax')"
   ]
  },
  {
   "cell_type": "code",
   "execution_count": 46,
   "metadata": {},
   "outputs": [
    {
     "data": {
      "text/latex": [
       "$$\\frac{d}{d x} y{\\left (x \\right )} = - 3 x^{2} y{\\left (x \\right )} + 6 x^{2}$$"
      ],
      "text/plain": [
       "d               2           2\n",
       "──(y(x)) = - 3⋅x ⋅y(x) + 6⋅x \n",
       "dx                           "
      ]
     },
     "execution_count": 46,
     "metadata": {},
     "output_type": "execute_result"
    }
   ],
   "source": [
    "# Resolviendo ecuación diferencial\n",
    "# defino las incognitas\n",
    "x = sympy.Symbol('x')\n",
    "y = sympy.Function('y')\n",
    "\n",
    "# expreso la ecuacion\n",
    "f = 6*x**2 - 3*x**2*(y(x))\n",
    "sympy.Eq(y(x).diff(x), f)"
   ]
  },
  {
   "cell_type": "markdown",
   "metadata": {},
   "source": [
    "Aquí primero definimos la incógnitas $x$ utilizando el objeto `Symbol`  y, que al ser una función, la definimos con el objeto `Function`, luego expresamos en Python la ecuación que define a la función. Ahora solo nos restaría aplicar la función `dsolve para resolver nuestra EDO`."
   ]
  },
  {
   "cell_type": "code",
   "execution_count": 14,
   "metadata": {},
   "outputs": [
    {
     "data": {
      "text/latex": [
       "$$y{\\left (x \\right )} = C_{1} e^{- x^{3}} + 2$$"
      ],
      "text/plain": [
       "             3    \n",
       "           -x     \n",
       "y(x) = C₁⋅ℯ    + 2"
      ]
     },
     "execution_count": 14,
     "metadata": {},
     "output_type": "execute_result"
    }
   ],
   "source": [
    "# Resolviendo la ecuación\n",
    "sympy.dsolve(y(x).diff(x) - f)"
   ]
  },
  {
   "cell_type": "markdown",
   "metadata": {},
   "source": [
    "Ahora resolvamos el siguiente problema de valores iniciales\n",
    "$$\n",
    "\\begin{equation}\n",
    "\\begin{cases}\n",
    "\\dot{y}(x) & = & \\frac{1}{2}(y^2-1) \\\\\n",
    "y(0) & = & 2 \n",
    "\\end{cases}\n",
    " \\label{n=1}\n",
    "\\end{equation}\n",
    "$$"
   ]
  },
  {
   "cell_type": "code",
   "execution_count": 14,
   "metadata": {},
   "outputs": [
    {
     "data": {
      "text/latex": [
       "$$y{\\left (x \\right )} = \\frac{1}{\\tanh{\\left (C_{1} - \\frac{x}{2} \\right )}}$$"
      ],
      "text/plain": [
       "            1      \n",
       "y(x) = ────────────\n",
       "           ⎛     x⎞\n",
       "       tanh⎜C₁ - ─⎟\n",
       "           ⎝     2⎠"
      ]
     },
     "execution_count": 14,
     "metadata": {},
     "output_type": "execute_result"
    }
   ],
   "source": [
    "# importando modulos necesarios\n",
    "%matplotlib inline\n",
    "\n",
    "import matplotlib.pyplot as plt\n",
    "import numpy as np\n",
    "import sympy \n",
    "from sympy import*\n",
    "from scipy import integrate\n",
    "\n",
    "# imprimir con notación matemática.\n",
    "sympy.init_printing(use_latex='mathjax')\n",
    "\n",
    "# Resolviendo ecuación diferencial\n",
    "# defino las incognitas\n",
    "x = sympy.Symbol('x')\n",
    "y = sympy.Function('y')\n",
    "\n",
    "\n",
    "\n",
    "# definiendo la ecuación\n",
    "eq =   (y(x)**2 - 1) /2\n",
    "\n",
    "# Condición inicial\n",
    "ics = {y(0): 2}\n",
    "\n",
    "# Resolviendo la ecuación\n",
    "edo_sol = sympy.dsolve(y(x).diff(x) - eq)\n",
    "edo_sol"
   ]
  },
  {
   "cell_type": "code",
   "execution_count": 13,
   "metadata": {},
   "outputs": [],
   "source": [
    "eq = nsimplify( (1/2) * (y(x)**2 - 1) )"
   ]
  },
  {
   "cell_type": "markdown",
   "metadata": {},
   "source": [
    "Aquí encontramos la solución general de nuestra Ecuación diferencial, ahora reemplazamos los valores de la condición inicial en nuestra ecuación."
   ]
  },
  {
   "cell_type": "code",
   "execution_count": 15,
   "metadata": {},
   "outputs": [
    {
     "data": {
      "text/latex": [
       "$$2 = \\frac{1}{\\tanh{\\left (C_{1} \\right )}}$$"
      ],
      "text/plain": [
       "       1    \n",
       "2 = ────────\n",
       "    tanh(C₁)"
      ]
     },
     "execution_count": 15,
     "metadata": {},
     "output_type": "execute_result"
    }
   ],
   "source": [
    "C_eq = sympy.Eq(edo_sol.lhs.subs(x, 0).subs(ics), edo_sol.rhs.subs(x, 0))\n",
    "C_eq"
   ]
  },
  {
   "cell_type": "markdown",
   "metadata": {},
   "source": [
    "y por último despejamos el valor de la constante de integración resolviendo la ecuación."
   ]
  },
  {
   "cell_type": "code",
   "execution_count": 16,
   "metadata": {},
   "outputs": [
    {
     "data": {
      "text/latex": [
       "$$\\left [ \\log{\\left (\\sqrt{3} \\right )} + i \\pi, \\quad \\log{\\left (\\sqrt{3} \\right )}\\right ]$$"
      ],
      "text/plain": [
       "[log(√3) + ⅈ⋅π, log(√3)]"
      ]
     },
     "execution_count": 16,
     "metadata": {},
     "output_type": "execute_result"
    }
   ],
   "source": [
    "sympy.solve(C_eq)"
   ]
  },
  {
   "cell_type": "markdown",
   "metadata": {},
   "source": [
    "$$\\frac{dx}{dt} -tx = 3t $$"
   ]
  },
  {
   "cell_type": "code",
   "execution_count": 58,
   "metadata": {},
   "outputs": [
    {
     "data": {
      "text/latex": [
       "$$x{\\left (t \\right )} = C_{1} e^{\\frac{t^{2}}{2}} - 3$$"
      ],
      "text/plain": [
       "            2    \n",
       "           t     \n",
       "           ──    \n",
       "           2     \n",
       "x(t) = C₁⋅ℯ   - 3"
      ]
     },
     "execution_count": 58,
     "metadata": {},
     "output_type": "execute_result"
    }
   ],
   "source": [
    "import sympy \n",
    "sympy.init_printing(use_latex='mathjax')\n",
    "t = sympy.Symbol('t')\n",
    "x = sympy.Function('x')\n",
    "\n",
    "f = 3*t + t*(x(t))\n",
    "\n",
    "#Re=sympy.Eq(x(t).diff(t), f)\n",
    "#print(\"\\nResolver la EDO\",sympy.Eq(x(t).diff(t), f))\n",
    "Sol=sympy.dsolve(x(t).diff(t) - f)\n",
    "Sol\n",
    "#sympy.pprint(Sol)"
   ]
  },
  {
   "cell_type": "code",
   "execution_count": 2,
   "metadata": {},
   "outputs": [
    {
     "data": {
      "text/latex": [
       "$$x{\\left (t \\right )} = C_{1} e^{\\frac{t^{2}}{2}} - 3$$"
      ],
      "text/plain": [
       "            2    \n",
       "           t     \n",
       "           ──    \n",
       "           2     \n",
       "x(t) = C₁⋅ℯ   - 3"
      ]
     },
     "execution_count": 2,
     "metadata": {},
     "output_type": "execute_result"
    }
   ],
   "source": [
    "sympy.dsolve(x(t).diff(t) - f)"
   ]
  },
  {
   "cell_type": "code",
   "execution_count": 62,
   "metadata": {},
   "outputs": [
    {
     "name": "stdout",
     "output_type": "stream",
     "text": [
      "                                      ⎛5⋅√2⎞       \n",
      "                      5⋅√2⋅√π⋅fresnelc⎜────⎟⋅Γ(5/4)\n",
      "  25⋅cos(25)⋅Γ(5/4)                   ⎝ √π ⎠       \n",
      "- ───────────────── + ─────────────────────────────\n",
      "       8⋅Γ(9/4)                 16⋅Γ(9/4)          \n"
     ]
    }
   ],
   "source": [
    "import sympy as sp\n",
    "from sympy import*\n",
    "sp.init_printing()\n",
    "\n",
    "x=Symbol('x')\n",
    "f = x**2 * sp.sin(x**2)\n",
    "g = sp.integrate(f,(x,0,5))\n",
    "#g\n",
    "#print(\"\\nLa integral da\", g )\n",
    "sp.pprint(g)"
   ]
  },
  {
   "cell_type": "markdown",
   "metadata": {},
   "source": [
    "## Ejemplo: Resolver la ecuación diferencial ordinaria:\n",
    "\n",
    "$$\\frac{dy}{dx} = y+x-x^2+1$$\n",
    "con la condición inicial $y(0)=1$"
   ]
  },
  {
   "cell_type": "code",
   "execution_count": 17,
   "metadata": {},
   "outputs": [
    {
     "name": "stdout",
     "output_type": "stream",
     "text": [
      "d             2               \n",
      "──(y(x)) = - x  + x + y(x) + 1\n",
      "dx                            \n"
     ]
    },
    {
     "data": {
      "image/png": "[encoded data removed]",
      "text/latex": [
       "$$y{\\left (x \\right )} = \\left(C_{1} + x \\left(x + 1\\right) e^{- x}\\right) e^{x}$$"
      ],
      "text/plain": [
       "       ⎛                -x⎞  x\n",
       "y(x) = ⎝C₁ + x⋅(x + 1)⋅ℯ  ⎠⋅ℯ "
      ]
     },
     "execution_count": 17,
     "metadata": {},
     "output_type": "execute_result"
    }
   ],
   "source": [
    "import sympy \n",
    "from sympy import*\n",
    "sympy.init_printing()\n",
    "\n",
    "x=Symbol('x')\n",
    "y=sympy.Function('y')\n",
    "\n",
    "# definiendo la ecuación\n",
    "f =  y(x) + x - x**2 + 1 \n",
    "\n",
    "# Condición inicial\n",
    "ics = {y(0): 1}\n",
    "\n",
    "# Checando la ecuación planteada\n",
    "eq=sympy.Eq(y(x).diff(x), f)\n",
    "pprint(eq)\n",
    "\n",
    "# Resolviendo la ecuación\n",
    "edo_sol = sympy.dsolve(y(x).diff(x) - f)\n",
    "edo_sol"
   ]
  },
  {
   "cell_type": "code",
   "execution_count": 20,
   "metadata": {},
   "outputs": [
    {
     "data": {
      "image/png": "[encoded data removed]",
      "text/latex": [
       "$$1 = C_{1}$$"
      ],
      "text/plain": [
       "1 = C₁"
      ]
     },
     "execution_count": 20,
     "metadata": {},
     "output_type": "execute_result"
    }
   ],
   "source": [
    "C_eq = sympy.Eq(edo_sol.lhs.subs(x, 0).subs(ics), edo_sol.rhs.subs(x, 0))\n",
    "C_eq"
   ]
  },
  {
   "cell_type": "code",
   "execution_count": 21,
   "metadata": {},
   "outputs": [
    {
     "data": {
      "image/png": "[encoded data removed]",
      "text/latex": [
       "$$\\left [ 1\\right ]$$"
      ],
      "text/plain": [
       "[1]"
      ]
     },
     "execution_count": 21,
     "metadata": {},
     "output_type": "execute_result"
    }
   ],
   "source": [
    "sympy.solve(C_eq)"
   ]
  },
  {
   "cell_type": "markdown",
   "metadata": {},
   "source": [
    "# Método de la serie de Taylor\n",
    "\n",
    "Dada la ecuación diferencial de primer orden con la condición en el inicio:\n",
    "$$y'(x)=f(x,y),\\qquad y(x_0)=y_0$$\n",
    "\n",
    "El desarrollo de la Serie de Taylor se usa para obtener puntos de la solución a una distancia elegida __h__, a partir de la condición inicial conocida, y para estimar el error de truncamiento.\n",
    "$$y_{i+1}=y_i+hy_{i}^{'}+\\frac{h^2}{2!}y_{i}^{\"}+\\cdots+\\frac{h^n}{n!}y^{(n)}+\\frac{h^{n+1}}{(n+1)!}y^{(n+1)}(z), \\qquad x_i\\leq z \\geq x_{i+1}$$\n",
    "\n",
    "$$y_{i+1}=y_i+hf(x_i,y_i)+\\frac{h^2}{2!}f^{1}(x_i,y_i)+\\cdots+\\frac{h^n}{n!}f^{n}(x_i,y_i)+\\frac{h^{n+1}}{(n+1)!}f^{n+1}(x_i,y_i)(z), \\qquad x_i\\leq z \\geq x_{i+1}$$\n",
    "\n",
    "`Ejemplo`: Obtenga dos puntos de la solución de la siguiente ecuación diferencial utilizando los tres primeros términos de la serie de Taylor con __h = 0.1__\n",
    "$$y'-y-x+x^2-1=0 \\qquad \\text{con la condición inicial } y(0)=1$$\n",
    "\n",
    "Solución: Desarrollo de la Serie de Taylor en el punto $x_i$\n",
    "$$y_{i+1}=y_{i}+hy'_i+\\frac{h^2}{2!}y^{\"}_{i},\\qquad E=\\frac{h^3}{3!}y^{'''}(z)=\\mathscr{O}(h^3)=\\mathscr{O}(0.001)\\text{ error de truncamiento}$$\n",
    "\n",
    "$$x_{i+1}=x_i+h,\\qquad i=0,1,2,\\cdots$$\n",
    "\n",
    "Obtención de las derivadas\n",
    "$$y'=f(x,y)=y-x^2+x+1$$\n",
    "$$y\"=f'(x,y)=y' - 2x+1=(y-x^2+x+1)-2x+1=y-x^2-x+2$$\n",
    "$$x_0=0,\\qquad y_0=1,\\qquad h=0.1$$\n",
    "\n",
    "Al sustituir las derivadas en el desarrollo de la Serie de Taylor se obtiene una fórmula para obtener puntos de la solución para la ecuación diferencial propuesta:\n",
    "$$y_{i+1}=y_i+h(y_i-x_i^2+x_i+1)+\\frac{h^2}{2}(y_i-x_i^2-x_i+2)$$\n",
    "$$x_{i+1}=x_i+h, i=0,1,2,\\cdots$$\n",
    "\n",
    "Puntos calculados:\n",
    "$$i=0:\\qquad y_1=y_0+h(y_0-x^2_0+x_0+1)+\\frac{h^2}{2}(y_0-x^2_0-x_0+2) = 1+0.1(1-0^2+0+1)+\\frac{0.1^2}{2}(1-0^2-0+2)=1.2150$$\n",
    "$$x_1=x_0+h=0+0.1=0.1$$\n",
    "\n",
    "$$i=1:\\qquad y_2=y_1+h(y_1-x^2_1+x_1+1)+\\frac{h^2}{2}(y_1-x^2_1-x_1+2) = 1.2150+0.1(1.2150-0.1^2+0.1+1)+\\frac{0.1^2}{2}(1.2150-0.1^2-0.1+2)=1.4610$$\n",
    "$$x_2=x_1+h=0.1+0.1=0.2$$\n",
    "\n",
    "Para comprobar la exactitud comparamos con la solución exacta (calculada arriba): $y(x) = e^x + x + x^2$\n",
    "$$y(0.1)=1.2152$$\n",
    "$$y(0.2)=1.4614$$\n",
    "\n",
    "\n",
    "En el siguiente gráfico se muestran los dos puntos obtenidos junto con el gráfico de la solución analítica exacta. La concordancia es muy buena."
   ]
  },
  {
   "cell_type": "code",
   "execution_count": 66,
   "metadata": {},
   "outputs": [
    {
     "data": {
      "text/plain": [
       "<function matplotlib.pyplot.show(*args, **kw)>"
      ]
     },
     "execution_count": 66,
     "metadata": {},
     "output_type": "execute_result"
    },
    {
     "data": {
      "image/png": "[encoded data removed]",
      "text/plain": [
       "<Figure size 432x288 with 1 Axes>"
      ]
     },
     "metadata": {},
     "output_type": "display_data"
    }
   ],
   "source": [
    "%matplotlib inline\n",
    "import numpy as np\n",
    "import matplotlib.pyplot as plt\n",
    "\n",
    "def f(x):\n",
    "    return np.exp(x)+x+x**2\n",
    "\n",
    "x = np.linspace(-1, 1, num=30)\n",
    "plt.plot(x, f(x), label=\"Sol. exacta\")\n",
    "plt.plot([0.1, 0.2], [1.2152, 1.4614],'ro',label=\" Aproximaciones con Taylor\")\n",
    "plt.legend()\n",
    "plt.show"
   ]
  },
  {
   "cell_type": "markdown",
   "metadata": {},
   "source": [
    "# Definiendo el método de la Serie de Taylor\n",
    "\n",
    "La siguiente función programada en Python permite obtener puntos de la solución de una EDO de primer orden usando los primeros tres términos de la Serie de Taylor. La función requiere especificar $f(x,y)$, $f’(x,y)$, el punto inicial $(x_0, y_0)$ y los parámetros $h$ (paso o distancia entre puntos), y $m$ (cantidad de puntos).\n",
    "La función entrega el resultado en __u__ un arreglo de NumPy en el cual la primera columna contiene los valores de la variable independiente, $x$, mientras que la segunda columna contiene los valores de los resultados, $y$. El uso de arreglos de NumPy permite usar otras funciones de la librería, por ejemplo el formateo de los resultados.\n",
    "\n",
    "Ecuación diferencial: $$y'(x)=f(x,y),\\quad y(x_0)=y_0,\\quad x_0\\leq x \\geq x_n$$\n",
    "\n",
    "Serie de Taylor: $$y_{i+1}=y_i+hy'_i+\\frac{h^2}{2!}y^{\"}_i=y_i+hf(x_i,y_i)+\\frac{h^2}{2!}f'(x_i,y_i)$$\n",
    "$$x_{i+1}=x_i+h,\\quad i=0,1,2,\\cdots$$"
   ]
  },
  {
   "cell_type": "code",
   "execution_count": 2,
   "metadata": {},
   "outputs": [],
   "source": [
    "import numpy as np\n",
    "def taylor3(f,df,x,y,h,m):\n",
    "    u=np.zeros([m,2])\n",
    "    for i in range(m):\n",
    "        y=y+h*f(x,y)+h**2/2*df(x,y)\n",
    "        x=x+h\n",
    "        u[i,0]=x\n",
    "        u[i,1]=y\n",
    "    return u"
   ]
  },
  {
   "cell_type": "markdown",
   "metadata": {},
   "source": [
    "`Ejemplo` Con la función __taylor3__, obtenga 5 puntos de la solución de la siguiente ecuación diferencial. Tabule y grafique los puntos. Use __h = 0.1__\n",
    "$$y'-y-x+x^2-1=0 \\quad \\text{con la condición inicial } y(0)=1$$\n",
    "\n",
    "Obtención de las derivadas\n",
    "$$y'(x)=f(x,y)= y-x^2+x+1$$\n",
    "$$y\"(x)=f'(x,y)= y-x^2-x+2$$\n",
    "$$x_0=0,\\quad y_0=1,\\quad h=0.1, \\quad m=5$$"
   ]
  },
  {
   "cell_type": "code",
   "execution_count": 9,
   "metadata": {},
   "outputs": [
    {
     "name": "stdout",
     "output_type": "stream",
     "text": [
      "[[0.1    1.215 ]\n",
      " [0.2    1.461 ]\n",
      " [0.3    1.7392]\n",
      " [0.4    2.0509]\n",
      " [0.5    2.3974]]\n"
     ]
    },
    {
     "data": {
      "image/png": "[encoded data removed]",
      "text/plain": [
       "<Figure size 432x288 with 1 Axes>"
      ]
     },
     "metadata": {},
     "output_type": "display_data"
    }
   ],
   "source": [
    "import numpy as np\n",
    "import pylab as pl\n",
    "np.set_printoptions(precision=4) #formato de resultados 4 decimales\n",
    "\n",
    "def f(x,y):\n",
    "    return y-x**2+x+1\n",
    "def df(x,y):\n",
    "    return y-x**2-x+2\n",
    "#####################\n",
    "u=taylor3(f,df,0,1,0.1,5)\n",
    "print(u)\n",
    "\n",
    "x=u[:,0] #La primera columna de u, se escribe\n",
    "y=u[:,1] #La segunda columna de u se escribe \n",
    "## La marca : significa “todas las filas”\n",
    "pl.plot(x,y,'o')\n",
    "pl.grid(True)\n",
    "pl.show()"
   ]
  },
  {
   "cell_type": "markdown",
   "metadata": {},
   "source": [
    "### Solución numérica con el método odeint de la librería Scipy de Python"
   ]
  },
  {
   "cell_type": "code",
   "execution_count": 16,
   "metadata": {},
   "outputs": [
    {
     "name": "stdout",
     "output_type": "stream",
     "text": [
      "\n",
      "x = [0.  0.1 0.2 0.3 0.4 0.5]\n",
      "\n",
      "y = [[1.    ]\n",
      " [1.2152]\n",
      " [1.4614]\n",
      " [1.7399]\n",
      " [2.0518]\n",
      " [2.3987]]\n"
     ]
    }
   ],
   "source": [
    "from numpy import*\n",
    "from scipy.integrate import odeint\n",
    "\n",
    "def f(y,x):\n",
    "    return y-x**2+x+1\n",
    "\n",
    "x=arange(0,0.6,0.1)\n",
    "y=odeint(f,1,x)  #Al Integrar se incluye y(x0)\n",
    "\n",
    "print('\\nx =',x)\n",
    "\n",
    "print('\\ny =',y)"
   ]
  },
  {
   "cell_type": "markdown",
   "metadata": {},
   "source": [
    "### Solución simbólica con el método dsolve de la librería simbólica Sympy de Python"
   ]
  },
  {
   "cell_type": "code",
   "execution_count": 21,
   "metadata": {},
   "outputs": [
    {
     "data": {
      "image/png": "[encoded data removed]",
      "text/latex": [
       "$$y{\\left (x \\right )} = \\left(C_{1} + x \\left(x + 1\\right) e^{- x}\\right) e^{x}$$"
      ],
      "text/plain": [
       "       ⎛                -x⎞  x\n",
       "y(x) = ⎝C₁ + x⋅(x + 1)⋅ℯ  ⎠⋅ℯ "
      ]
     },
     "execution_count": 21,
     "metadata": {},
     "output_type": "execute_result"
    }
   ],
   "source": [
    "import sympy\n",
    "from sympy import*\n",
    "sympy.init_printing()\n",
    "\n",
    "x,y=symbols('x,y')\n",
    "dsolve(diff(y(x),x)-y(x)-x+x**2-1)"
   ]
  },
  {
   "cell_type": "code",
   "execution_count": 22,
   "metadata": {},
   "outputs": [
    {
     "data": {
      "image/png": "[encoded data removed]",
      "text/latex": [
       "$$C_{1}$$"
      ],
      "text/plain": [
       "C₁"
      ]
     },
     "execution_count": 22,
     "metadata": {},
     "output_type": "execute_result"
    }
   ],
   "source": [
    "C1=Symbol('C1')\n",
    "y=(C1 + x*(x + 1)*exp(-x))*exp(x)\n",
    "y.subs(x,0)"
   ]
  },
  {
   "cell_type": "markdown",
   "metadata": {},
   "source": [
    "### Esto quiere decir que y(0)=1 entonces C_1=1"
   ]
  },
  {
   "cell_type": "code",
   "execution_count": 24,
   "metadata": {},
   "outputs": [
    {
     "data": {
      "image/png": "[encoded data removed]",
      "text/latex": [
       "$$\\left(x \\left(x + 1\\right) e^{- x} + 1\\right) e^{x}$$"
      ],
      "text/plain": [
       "⎛           -x    ⎞  x\n",
       "⎝x⋅(x + 1)⋅ℯ   + 1⎠⋅ℯ "
      ]
     },
     "execution_count": 24,
     "metadata": {},
     "output_type": "execute_result"
    }
   ],
   "source": [
    "y=y.subs(C1,1)\n",
    "y"
   ]
  },
  {
   "cell_type": "code",
   "execution_count": 25,
   "metadata": {},
   "outputs": [
    {
     "data": {
      "image/png": "[encoded data removed]",
      "text/latex": [
       "$$x^{2} + x + e^{x}$$"
      ],
      "text/plain": [
       " 2        x\n",
       "x  + x + ℯ "
      ]
     },
     "execution_count": 25,
     "metadata": {},
     "output_type": "execute_result"
    }
   ],
   "source": [
    "y=expand(y)\n",
    "y"
   ]
  },
  {
   "cell_type": "markdown",
   "metadata": {},
   "source": [
    "### Obtención de derivadas de funciones implícitas\n",
    "La instrumentación de la función __taylor3__ requiere enviar como parámetros f(x,y) y f’(x,y).\n",
    "La derivada f’(x,y) debe obtenerse previamente en forma manual y debe ser enviada como parámetro.\n",
    "En la siguiente sección se decribe una función para obtener derivadas de y’(x) = f(x,y) computacionalmente.\n",
    "Para entender la notación de Sympy para derivar funciones implícitas se muestra el desarrollo de un ejemplo simple:\n",
    "\n",
    "`Ejemplo` Obtener la primera derivada de la función\n",
    "$$y'(x)=f(x,y)=y-x^2+x+1\\quad \\text{en donde } y=y(x)$$\n"
   ]
  },
  {
   "cell_type": "code",
   "execution_count": 26,
   "metadata": {},
   "outputs": [
    {
     "name": "stdout",
     "output_type": "stream",
     "text": [
      "-2*x + 1\n"
     ]
    }
   ],
   "source": [
    "from sympy import*\n",
    "x,y=symbols('x,y')\n",
    "f=y-x**2+x+1\n",
    "d=diff(f,x);\n",
    "print(d)"
   ]
  },
  {
   "cell_type": "markdown",
   "metadata": {},
   "source": [
    "### Con este formato de f, diff considera a y como constante y desaparece"
   ]
  },
  {
   "cell_type": "code",
   "execution_count": 36,
   "metadata": {},
   "outputs": [
    {
     "name": "stdout",
     "output_type": "stream",
     "text": [
      "       d           \n",
      "-2⋅x + ──(y(x)) + 1\n",
      "       dx          \n"
     ]
    }
   ],
   "source": [
    "import sympy\n",
    "from sympy import*\n",
    "sympy.init_printing()\n",
    "\n",
    "x,y=symbols('x,y')\n",
    "f=y(x)-x**2+x+1\n",
    "d=diff(f,x)\n",
    "pprint(d)"
   ]
  },
  {
   "cell_type": "code",
   "execution_count": 37,
   "metadata": {},
   "outputs": [
    {
     "name": "stdout",
     "output_type": "stream",
     "text": [
      "-x**2 - x + y(x) + 2\n"
     ]
    }
   ],
   "source": [
    "d=d.subs(Derivative(y(x),x),f) #Reemplaza y’(x) por f\n",
    "print(d)"
   ]
  },
  {
   "cell_type": "code",
   "execution_count": 38,
   "metadata": {},
   "outputs": [
    {
     "name": "stdout",
     "output_type": "stream",
     "text": [
      "-x**2 - x + y + 2\n"
     ]
    }
   ],
   "source": [
    "d=d.subs(y(x),y) #Reemplaza y(x) por y \n",
    "print(d)"
   ]
  },
  {
   "cell_type": "markdown",
   "metadata": {},
   "source": [
    "#### Desarrollo de una función para obtener las derivadas sucesivas de una función implícita usando el manejo simbólico de la librería Sympy. La expresión resultante queda en formato simple y directamente evaluable, por lo tanto puede incorporarse en un método numérico para evaluar términos de la serie de Taylor evitando el envío de derivadas desde fuera del método numérico. Por simplicidad deben usarse los símbolos 'x, y' como variables.\n",
    "\n",
    "Esta función usa la función Derivative de Python para derivar implícitamente, y usa sustituciones para expresarla en forma simple. Es una contribución de interés para este tema.\n",
    "\n",
    "Uso de la función derive:\n",
    "__derive(f,nd)__\n",
    "__f__: función __f(x,y)__ en la cual __y=y(x)__ siendo __x__ la variable independiente\n",
    "__nd__: orden de la derivada"
   ]
  },
  {
   "cell_type": "code",
   "execution_count": 39,
   "metadata": {},
   "outputs": [],
   "source": [
    "import sympy as sp \n",
    "x,y=sp.symbols('x,y') \n",
    "def derive(f,nd):\n",
    "    t=f\n",
    "    for j in range(1,nd+1):\n",
    "        d=sp.diff(f.subs(y,y(x)),x)\n",
    "        f=d.subs(sp.Derivative(y(x),x),t).subs(y(x),y)\n",
    "    return f"
   ]
  },
  {
   "cell_type": "markdown",
   "metadata": {},
   "source": [
    "`Ejemplo` Sea y = y(x), obtenga la primera derivada en x de $f(x,y)=y^2sen(y)-x^2+x+1$"
   ]
  },
  {
   "cell_type": "code",
   "execution_count": 43,
   "metadata": {},
   "outputs": [
    {
     "data": {
      "image/png": "[encoded data removed]",
      "text/latex": [
       "$$- 2 x + y^{2} \\left(- x^{2} + x + y^{2} \\sin{\\left (y \\right )} + 1\\right) \\cos{\\left (y \\right )} + 2 y \\left(- x^{2} + x + y^{2} \\sin{\\left (y \\right )} + 1\\right) \\sin{\\left (y \\right )} + 1$$"
      ],
      "text/plain": [
       "        2 ⎛   2        2           ⎞              ⎛   2        2           ⎞  \n",
       "-2⋅x + y ⋅⎝- x  + x + y ⋅sin(y) + 1⎠⋅cos(y) + 2⋅y⋅⎝- x  + x + y ⋅sin(y) + 1⎠⋅s\n",
       "\n",
       "         \n",
       "in(y) + 1"
      ]
     },
     "execution_count": 43,
     "metadata": {},
     "output_type": "execute_result"
    }
   ],
   "source": [
    "import sympy\n",
    "from sympy import*\n",
    "sympy.init_printing()\n",
    "\n",
    "x,y=symbols('x,y')\n",
    "f=y**2*sin(y)-x**2+x+1\n",
    "d=derive(f,1)\n",
    "d"
   ]
  },
  {
   "cell_type": "markdown",
   "metadata": {},
   "source": [
    "`Ejemplo` Evaluar la derivada obtenida anteriormente. Use x = 1.5, y = 2.3"
   ]
  },
  {
   "cell_type": "code",
   "execution_count": 46,
   "metadata": {},
   "outputs": [
    {
     "data": {
      "image/png": "[encoded data removed]",
      "text/latex": [
       "$$-2.39580345631014$$"
      ],
      "text/plain": [
       "-2.39580345631014"
      ]
     },
     "execution_count": 46,
     "metadata": {},
     "output_type": "execute_result"
    }
   ],
   "source": [
    "r=d.subs(x,1.5).subs(y,2.3)\n",
    "r"
   ]
  },
  {
   "cell_type": "code",
   "execution_count": 47,
   "metadata": {},
   "outputs": [
    {
     "data": {
      "image/png": "[encoded data removed]",
      "text/latex": [
       "$$-2.3958$$"
      ],
      "text/plain": [
       "-2.39580"
      ]
     },
     "execution_count": 47,
     "metadata": {},
     "output_type": "execute_result"
    }
   ],
   "source": [
    "r.evalf(6) #Función para mostrar una cantidad fija de dígitos"
   ]
  },
  {
   "cell_type": "markdown",
   "metadata": {},
   "source": [
    "## Un método general para resolver una E.D.O con la serie de Taylor\n",
    "Con la función __derive__ se puede instrumentar una función para obtener puntos de la solución de una ecuación diferencial ordinaria de primer orden, lineal o no lineal, con una cantidad arbitraria de términos de la serie de Taylor con lo cual, en teoría, la precisión puede ser ilimitada:\n",
    "\n",
    "Uso de la función: __taylorg(f, a, b, h, m, k)__\n",
    "\n",
    "La función requiere especificar __f = f(x,y)__ definida en forma simbólica, el punto inicial __(a=x0, b=y0)__ y los parámetros __h__ (paso o distancia entre puntos), __m__ (cantidad de puntos que se calcularán), __k__ ( orden de la derivada de __y’(x)__ que se desea incluir en el desarrollo, __k≥1__ ).\n",
    "\n",
    "Ecuación diferencial: $$y'(x)=f(x,y),\\quad y(x_0)=y_0,\\quad x_0≤x≤x_n$$ "
   ]
  },
  {
   "cell_type": "code",
   "execution_count": 52,
   "metadata": {},
   "outputs": [],
   "source": [
    "import sympy as sp \n",
    "x,y=sp.symbols('x,y') \n",
    "def derive(f,nd):\n",
    "    t=f\n",
    "    for j in range(1,nd+1):\n",
    "        d=sp.diff(f.subs(y,y(x)),x)\n",
    "        f=d.subs(sp.Derivative(y(x),x),t).subs(y(x),y)\n",
    "    return f"
   ]
  },
  {
   "cell_type": "code",
   "execution_count": 51,
   "metadata": {},
   "outputs": [],
   "source": [
    "import numpy as np \n",
    "import sympy as sp \n",
    "x,y=sp.symbols('x,y') \n",
    "\n",
    "def taylorg(f,a,b,h,m,k):\n",
    "    u=np.zeros([m,2])\n",
    "    D=[ ]\n",
    "    for j in range(1,k+1):\n",
    "        D=D+[derive(f,j)]\n",
    "        \n",
    "    for i in range(m):\n",
    "        g=f.subs(x,a).subs(y,b)\n",
    "        t=b+h*g\n",
    "        for j in range(1,k+1):\n",
    "            z=D[j-1].subs(x,a).subs(y,b)\n",
    "            t=float(t+h**(j+1)/sp.factorial(j+1)*z)\n",
    "        b=t\n",
    "        a=a+h\n",
    "        u[i,0]=a\n",
    "        u[i,1]=b\n",
    "    return u"
   ]
  },
  {
   "cell_type": "markdown",
   "metadata": {},
   "source": [
    "`Ejemplo`. Calcule 5 puntos de solución de la ecuación $y’-y-x+x^2 -1=0$, $y(0)=1$.Use el desarrollo de la serie de Taylor hasta la tercera derivada de $f(x,y) = y’(x)$, con $h = 0.1$ \n",
    "\n",
    "Solución\n",
    "$$f(x,y)=y’(x)= y-x^2 +x+1$$"
   ]
  },
  {
   "cell_type": "code",
   "execution_count": 55,
   "metadata": {},
   "outputs": [
    {
     "name": "stdout",
     "output_type": "stream",
     "text": [
      "[[0.1    1.2152]\n",
      " [0.2    1.4614]\n",
      " [0.3    1.7399]\n",
      " [0.4    2.0518]\n",
      " [0.5    2.3987]]\n"
     ]
    }
   ],
   "source": [
    "import sympy\n",
    "from sympy import*\n",
    "sympy.init_printing()\n",
    "\n",
    "x,y=symbols('x,y')\n",
    "f=y+x-x**2+1\n",
    "u=taylorg(f,0,1,0.1,5,3)\n",
    "print(u)"
   ]
  },
  {
   "cell_type": "code",
   "execution_count": null,
   "metadata": {},
   "outputs": [],
   "source": []
  }
 ],
 "metadata": {
  "kernelspec": {
   "display_name": "Python 3",
   "language": "python",
   "name": "python3"
  },
  "language_info": {
   "codemirror_mode": {
    "name": "ipython",
    "version": 3
   },
   "file_extension": ".py",
   "mimetype": "text/x-python",
   "name": "python",
   "nbconvert_exporter": "python",
   "pygments_lexer": "ipython3",
   "version": "3.5.5"
  }
 },
 "nbformat": 4,
 "nbformat_minor": 2
}
